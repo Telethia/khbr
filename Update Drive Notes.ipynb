{
 "cells": [
  {
   "cell_type": "code",
   "execution_count": null,
   "metadata": {},
   "outputs": [],
   "source": [
    "!pip install --upgrade -q pygsheets"
   ]
  },
  {
   "cell_type": "code",
   "execution_count": 2,
   "metadata": {},
   "outputs": [
    {
     "name": "stdout",
     "output_type": "stream",
     "text": [
      "Collecting google-colab\n",
      "\u001b[?25l  Downloading https://files.pythonhosted.org/packages/70/9f/d3ec1275a089ec017f9c91af22ecd1e2fe738254b944e7a1f9528fcfacd0/google-colab-1.0.0.tar.gz (72kB)\n",
      "\u001b[K    100% |████████████████████████████████| 81kB 4.7MB/s ta 0:00:01\n",
      "\u001b[?25hCollecting google-auth~=1.4.0 (from google-colab)\n",
      "\u001b[?25l  Downloading https://files.pythonhosted.org/packages/56/80/369a47c28ce7d9be6a6973338133d073864d8efbb62747e414c34a3a5f4f/google_auth-1.4.2-py2.py3-none-any.whl (64kB)\n",
      "\u001b[K    100% |████████████████████████████████| 71kB 14.4MB/s ta 0:00:01\n",
      "\u001b[?25hCollecting ipykernel~=4.6.0 (from google-colab)\n",
      "\u001b[?25l  Downloading https://files.pythonhosted.org/packages/18/c3/76775a650cae2e3d9c033b26153583e61282692d9a3af12a3022d8f0cefa/ipykernel-4.6.1-py3-none-any.whl (104kB)\n",
      "\u001b[K    100% |████████████████████████████████| 112kB 12.4MB/s ta 0:00:01\n",
      "\u001b[?25hCollecting ipython~=5.5.0 (from google-colab)\n",
      "\u001b[?25l  Downloading https://files.pythonhosted.org/packages/07/63/c987612bcf82c56eaacaf6bf01e31e53a244a0a3a0fb036ec5adc377e0fe/ipython-5.5.0-py3-none-any.whl (758kB)\n",
      "\u001b[K    100% |████████████████████████████████| 768kB 16.2MB/s ta 0:00:01\n",
      "\u001b[?25hCollecting notebook~=5.2.0 (from google-colab)\n",
      "\u001b[?25l  Downloading https://files.pythonhosted.org/packages/96/a2/d951ebb7855743f989287486ded73cd3f66915c3ecd9c5c5a0c7ca12377a/notebook-5.2.2-py2.py3-none-any.whl (8.0MB)\n",
      "\u001b[K    100% |████████████████████████████████| 8.0MB 4.5MB/s eta 0:00:01\n",
      "\u001b[?25hCollecting six~=1.12.0 (from google-colab)\n",
      "  Downloading https://files.pythonhosted.org/packages/73/fb/00a976f728d0d1fecfe898238ce23f502a721c0ac0ecfedb80e0d88c64e9/six-1.12.0-py2.py3-none-any.whl\n",
      "Collecting pandas~=0.24.0 (from google-colab)\n",
      "\u001b[?25l  Downloading https://files.pythonhosted.org/packages/fc/43/fd867e3347559845c8f993059d410c50a1e18709f1c4d4b3b47323a06a37/pandas-0.24.2-cp37-cp37m-macosx_10_6_intel.macosx_10_9_intel.macosx_10_9_x86_64.macosx_10_10_intel.macosx_10_10_x86_64.whl (15.9MB)\n",
      "\u001b[K    100% |████████████████████████████████| 15.9MB 1.8MB/s eta 0:00:01    88% |████████████████████████████▌   | 14.2MB 31.6MB/s eta 0:00:01\n",
      "\u001b[?25hCollecting portpicker~=1.2.0 (from google-colab)\n",
      "  Downloading https://files.pythonhosted.org/packages/49/2c/a75ef568273036aa61319a554164e6031e31708106ea6ca10e17265e1703/portpicker-1.2.0.tar.gz\n",
      "Requirement already satisfied: requests~=2.21.0 in /anaconda3/lib/python3.7/site-packages (from google-colab) (2.21.0)\n",
      "Collecting tornado~=4.5.0 (from google-colab)\n",
      "\u001b[?25l  Downloading https://files.pythonhosted.org/packages/e3/7b/e29ab3d51c8df66922fea216e2bddfcb6430fb29620e5165b16a216e0d3c/tornado-4.5.3.tar.gz (484kB)\n",
      "\u001b[K    100% |████████████████████████████████| 491kB 17.5MB/s ta 0:00:01\n",
      "\u001b[?25hRequirement already satisfied: cachetools>=2.0.0 in /anaconda3/lib/python3.7/site-packages (from google-auth~=1.4.0->google-colab) (4.2.2)\n",
      "Requirement already satisfied: rsa>=3.1.4 in /anaconda3/lib/python3.7/site-packages (from google-auth~=1.4.0->google-colab) (4.7.2)\n",
      "Requirement already satisfied: pyasn1-modules>=0.2.1 in /anaconda3/lib/python3.7/site-packages (from google-auth~=1.4.0->google-colab) (0.2.2)\n",
      "Requirement already satisfied: traitlets>=4.1.0 in /anaconda3/lib/python3.7/site-packages (from ipykernel~=4.6.0->google-colab) (4.3.2)\n",
      "Requirement already satisfied: jupyter-client in /anaconda3/lib/python3.7/site-packages (from ipykernel~=4.6.0->google-colab) (5.2.3)\n",
      "Requirement already satisfied: setuptools>=18.5 in /anaconda3/lib/python3.7/site-packages (from ipython~=5.5.0->google-colab) (57.0.0)\n",
      "Requirement already satisfied: simplegeneric>0.8 in /anaconda3/lib/python3.7/site-packages (from ipython~=5.5.0->google-colab) (0.8.1)\n",
      "Requirement already satisfied: pexpect; sys_platform != \"win32\" in /anaconda3/lib/python3.7/site-packages (from ipython~=5.5.0->google-colab) (4.6.0)\n",
      "Requirement already satisfied: appnope; sys_platform == \"darwin\" in /anaconda3/lib/python3.7/site-packages (from ipython~=5.5.0->google-colab) (0.1.0)\n",
      "Requirement already satisfied: prompt-toolkit<2.0.0,>=1.0.4 in /anaconda3/lib/python3.7/site-packages (from ipython~=5.5.0->google-colab) (1.0.15)\n",
      "Requirement already satisfied: pickleshare in /anaconda3/lib/python3.7/site-packages (from ipython~=5.5.0->google-colab) (0.7.4)\n",
      "Requirement already satisfied: pygments in /anaconda3/lib/python3.7/site-packages (from ipython~=5.5.0->google-colab) (2.2.0)\n",
      "Requirement already satisfied: decorator in /anaconda3/lib/python3.7/site-packages (from ipython~=5.5.0->google-colab) (4.3.0)\n",
      "Requirement already satisfied: jinja2 in /anaconda3/lib/python3.7/site-packages (from notebook~=5.2.0->google-colab) (2.10)\n",
      "Requirement already satisfied: ipython-genutils in /anaconda3/lib/python3.7/site-packages (from notebook~=5.2.0->google-colab) (0.2.0)\n",
      "Requirement already satisfied: nbconvert in /anaconda3/lib/python3.7/site-packages (from notebook~=5.2.0->google-colab) (5.4.0)\n",
      "Requirement already satisfied: terminado>=0.3.3; sys_platform != \"win32\" in /anaconda3/lib/python3.7/site-packages (from notebook~=5.2.0->google-colab) (0.8.1)\n",
      "Requirement already satisfied: nbformat in /anaconda3/lib/python3.7/site-packages (from notebook~=5.2.0->google-colab) (4.4.0)\n",
      "Requirement already satisfied: jupyter-core in /anaconda3/lib/python3.7/site-packages (from notebook~=5.2.0->google-colab) (4.4.0)\n",
      "Requirement already satisfied: numpy>=1.12.0 in /anaconda3/lib/python3.7/site-packages (from pandas~=0.24.0->google-colab) (1.15.1)\n",
      "Requirement already satisfied: python-dateutil>=2.5.0 in /anaconda3/lib/python3.7/site-packages (from pandas~=0.24.0->google-colab) (2.7.3)\n",
      "Requirement already satisfied: pytz>=2011k in /anaconda3/lib/python3.7/site-packages (from pandas~=0.24.0->google-colab) (2018.5)\n",
      "Requirement already satisfied: chardet<3.1.0,>=3.0.2 in /anaconda3/lib/python3.7/site-packages (from requests~=2.21.0->google-colab) (3.0.4)\n",
      "Requirement already satisfied: certifi>=2017.4.17 in /anaconda3/lib/python3.7/site-packages (from requests~=2.21.0->google-colab) (2018.8.24)\n",
      "Requirement already satisfied: urllib3<1.25,>=1.21.1 in /anaconda3/lib/python3.7/site-packages (from requests~=2.21.0->google-colab) (1.24.3)\n",
      "Requirement already satisfied: idna<2.9,>=2.5 in /anaconda3/lib/python3.7/site-packages (from requests~=2.21.0->google-colab) (2.7)\n",
      "Requirement already satisfied: pyasn1>=0.1.3 in /anaconda3/lib/python3.7/site-packages (from rsa>=3.1.4->google-auth~=1.4.0->google-colab) (0.4.4)\n",
      "Requirement already satisfied: pyzmq>=13 in /anaconda3/lib/python3.7/site-packages (from jupyter-client->ipykernel~=4.6.0->google-colab) (17.1.2)\n",
      "Requirement already satisfied: ptyprocess>=0.5 in /anaconda3/lib/python3.7/site-packages (from pexpect; sys_platform != \"win32\"->ipython~=5.5.0->google-colab) (0.6.0)\n",
      "Requirement already satisfied: wcwidth in /anaconda3/lib/python3.7/site-packages (from prompt-toolkit<2.0.0,>=1.0.4->ipython~=5.5.0->google-colab) (0.1.7)\n",
      "Requirement already satisfied: MarkupSafe>=0.23 in /anaconda3/lib/python3.7/site-packages (from jinja2->notebook~=5.2.0->google-colab) (1.0)\n",
      "Requirement already satisfied: mistune>=0.8.1 in /anaconda3/lib/python3.7/site-packages (from nbconvert->notebook~=5.2.0->google-colab) (0.8.3)\n",
      "Requirement already satisfied: entrypoints>=0.2.2 in /anaconda3/lib/python3.7/site-packages (from nbconvert->notebook~=5.2.0->google-colab) (0.2.3)\n",
      "Requirement already satisfied: bleach in /anaconda3/lib/python3.7/site-packages (from nbconvert->notebook~=5.2.0->google-colab) (2.1.4)\n",
      "Requirement already satisfied: pandocfilters>=1.4.1 in /anaconda3/lib/python3.7/site-packages (from nbconvert->notebook~=5.2.0->google-colab) (1.4.2)\n",
      "Requirement already satisfied: testpath in /anaconda3/lib/python3.7/site-packages (from nbconvert->notebook~=5.2.0->google-colab) (0.3.1)\n",
      "Requirement already satisfied: defusedxml in /anaconda3/lib/python3.7/site-packages (from nbconvert->notebook~=5.2.0->google-colab) (0.5.0)\n",
      "Requirement already satisfied: jsonschema!=2.5.0,>=2.4 in /anaconda3/lib/python3.7/site-packages (from nbformat->notebook~=5.2.0->google-colab) (2.6.0)\n",
      "Requirement already satisfied: html5lib!=1.0b1,!=1.0b2,!=1.0b3,!=1.0b4,!=1.0b5,!=1.0b6,!=1.0b7,!=1.0b8,>=0.99999999pre in /anaconda3/lib/python3.7/site-packages (from bleach->nbconvert->notebook~=5.2.0->google-colab) (1.0.1)\n",
      "Requirement already satisfied: webencodings in /anaconda3/lib/python3.7/site-packages (from html5lib!=1.0b1,!=1.0b2,!=1.0b3,!=1.0b4,!=1.0b5,!=1.0b6,!=1.0b7,!=1.0b8,>=0.99999999pre->bleach->nbconvert->notebook~=5.2.0->google-colab) (0.5.1)\n",
      "Building wheels for collected packages: google-colab, portpicker, tornado\n"
     ]
    },
    {
     "name": "stdout",
     "output_type": "stream",
     "text": [
      "  Running setup.py bdist_wheel for google-colab ... \u001b[?25ldone\n",
      "\u001b[?25h  Stored in directory: /Users/thundrio/Library/Caches/pip/wheels/38/0d/59/701e300a337b2a2e07b27fe74dbfff0bc56ac58f711566ee67\n",
      "  Running setup.py bdist_wheel for portpicker ... \u001b[?25ldone\n",
      "\u001b[?25h  Stored in directory: /Users/thundrio/Library/Caches/pip/wheels/4a/45/47/1e126be9d4605e71f00d6e6fb151611f2f4cb9770b050c7d2d\n",
      "  Running setup.py bdist_wheel for tornado ... \u001b[?25ldone\n",
      "\u001b[?25h  Stored in directory: /Users/thundrio/Library/Caches/pip/wheels/72/bf/f4/b68fa69596986881b397b18ff2b9af5f8181233aadcc9f76fd\n",
      "Successfully built google-colab portpicker tornado\n",
      "\u001b[31mtwisted 18.7.0 requires PyHamcrest>=1.9.0, which is not installed.\u001b[0m\n",
      "\u001b[31mspyder-kernels 0.2.6 has requirement ipykernel>=4.8.2, but you'll have ipykernel 4.6.1 which is incompatible.\u001b[0m\n",
      "\u001b[31mmkdocs 1.0.4 has requirement tornado>=5.0, but you'll have tornado 4.5.3 which is incompatible.\u001b[0m\n",
      "\u001b[31mgoogle-api-python-client 2.6.0 has requirement google-auth<2dev,>=1.16.0, but you'll have google-auth 1.4.2 which is incompatible.\u001b[0m\n",
      "\u001b[31mgoogle-api-python-client 2.6.0 has requirement six<2dev,>=1.13.0, but you'll have six 1.12.0 which is incompatible.\u001b[0m\n",
      "\u001b[31mgoogle-api-core 1.28.0 has requirement google-auth<2.0dev,>=1.25.0, but you'll have google-auth 1.4.2 which is incompatible.\u001b[0m\n",
      "\u001b[31mgoogle-api-core 1.28.0 has requirement six>=1.13.0, but you'll have six 1.12.0 which is incompatible.\u001b[0m\n",
      "\u001b[31mbeckett 0.8.0 has requirement requests==2.10.0, but you'll have requests 2.21.0 which is incompatible.\u001b[0m\n",
      "\u001b[31mbeckett 0.8.0 has requirement six==1.10.0, but you'll have six 1.12.0 which is incompatible.\u001b[0m\n",
      "Installing collected packages: six, google-auth, ipython, tornado, ipykernel, notebook, pandas, portpicker, google-colab\n",
      "  Found existing installation: six 1.16.0\n",
      "    Uninstalling six-1.16.0:\n",
      "      Successfully uninstalled six-1.16.0\n",
      "  Found existing installation: google-auth 1.30.1\n",
      "    Uninstalling google-auth-1.30.1:\n",
      "      Successfully uninstalled google-auth-1.30.1\n",
      "  Found existing installation: ipython 6.5.0\n",
      "    Uninstalling ipython-6.5.0:\n",
      "      Successfully uninstalled ipython-6.5.0\n",
      "  Found existing installation: tornado 5.1\n",
      "    Uninstalling tornado-5.1:\n",
      "      Successfully uninstalled tornado-5.1\n",
      "  Found existing installation: ipykernel 4.9.0\n",
      "    Uninstalling ipykernel-4.9.0:\n",
      "      Successfully uninstalled ipykernel-4.9.0\n",
      "  Found existing installation: notebook 5.6.0\n",
      "    Uninstalling notebook-5.6.0:\n",
      "      Successfully uninstalled notebook-5.6.0\n",
      "  Found existing installation: pandas 0.23.4\n",
      "    Uninstalling pandas-0.23.4:\n",
      "      Successfully uninstalled pandas-0.23.4\n",
      "Successfully installed google-auth-1.4.2 google-colab-1.0.0 ipykernel-4.6.1 ipython-5.5.0 notebook-5.2.2 pandas-0.24.2 portpicker-1.2.0 six-1.12.0 tornado-4.5.3\n",
      "\u001b[33mYou are using pip version 10.0.1, however version 21.1.2 is available.\n",
      "You should consider upgrading via the 'pip install --upgrade pip' command.\u001b[0m\n"
     ]
    }
   ],
   "source": [
    "!pip install google-colab"
   ]
  },
  {
   "cell_type": "code",
   "execution_count": null,
   "metadata": {},
   "outputs": [],
   "source": [
    "import google.auth\n",
    "from google.colab import auth\n",
    "\n",
    "auth.authenticate_user()\n",
    "credentials, _ = google.auth.default()"
   ]
  },
  {
   "cell_type": "code",
   "execution_count": null,
   "metadata": {},
   "outputs": [],
   "source": [
    "import pygsheets\n",
    "gc = pygsheets.client.Client(credentials)\n",
    "sheet = gc.open(\"KH2 Enemy/Boss Randomizer Notes\")\n",
    "boss_sheet = sheet.PossibleBossPlacements\n",
    "# data = sheet.get_all_records()"
   ]
  },
  {
   "cell_type": "code",
   "execution_count": null,
   "metadata": {},
   "outputs": [],
   "source": [
    "2"
   ]
  },
  {
   "cell_type": "code",
   "execution_count": null,
   "metadata": {},
   "outputs": [],
   "source": []
  }
 ],
 "metadata": {
  "kernelspec": {
   "display_name": "Python 3",
   "language": "python",
   "name": "python3"
  },
  "language_info": {
   "codemirror_mode": {
    "name": "ipython",
    "version": 3
   },
   "file_extension": ".py",
   "mimetype": "text/x-python",
   "name": "python",
   "nbconvert_exporter": "python",
   "pygments_lexer": "ipython3",
   "version": "3.7.0"
  }
 },
 "nbformat": 4,
 "nbformat_minor": 2
}
