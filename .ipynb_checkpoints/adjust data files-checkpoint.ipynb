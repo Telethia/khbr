{
 "cells": [
  {
   "cell_type": "code",
   "execution_count": 3,
   "metadata": {},
   "outputs": [],
   "source": [
    "import json, os\n",
    "fnenemies = os.path.join(\"khbr\", \"enemies.json\")\n",
    "fnlocations = os.path.join(\"khbr\", \"locations.json\")\n",
    "\n",
    "enemies = json.load(open(fnenemies))\n",
    "locations = json.load(open(fnlocations))"
   ]
  },
  {
   "cell_type": "code",
   "execution_count": null,
   "metadata": {},
   "outputs": [],
   "source": [
    "# Location edits\n",
    "\n",
    "# isboss to entities\n",
    "# remove msn\n",
    "# set size to a large default of 50K or something\n",
    "\n",
    "for world in locations.values():\n",
    "    for room in world.values():\n",
    "        del room[\"msn\"]\n",
    "        room[\"size\"] = 5000000\n",
    "        for spawnpoint in room.values():\n",
    "            for idt in spawnpoint.values():\n",
    "                for ent in idt:\n",
    "                    ent[\"isboss\": False]"
   ]
  },
  {
   "cell_type": "code",
   "execution_count": null,
   "metadata": {},
   "outputs": [],
   "source": [
    "# Enemies edits\n",
    "\n",
    "# enemy variations need to be a dict with \"vars\" array\n",
    "# tags\n",
    "# isnightmare\n",
    "# hp\n",
    "# level\n",
    "# spawnlimiter\n",
    "# msn\n",
    "# unstable\n",
    "# whitelist\n",
    "# blacklist\n",
    "# can_be_enemy"
   ]
  },
  {
   "cell_type": "code",
   "execution_count": 6,
   "metadata": {},
   "outputs": [
    {
     "data": {
      "text/plain": [
       "502111"
      ]
     },
     "execution_count": 6,
     "metadata": {},
     "output_type": "execute_result"
    }
   ],
   "source": [
    "strenemies = json.dumps(enemies, indent=4)\n",
    "strlocations = json.dumps(locations, indent=4)\n",
    "\n",
    "strenemies = strenemies.replace(\",\\n                \", \", \")\n",
    "strenemies = strenemies.replace(\"\\n            ]\", \" ]\")\n",
    "strenemies = strenemies.replace(\"[\\n                \", \"[ \")\n",
    "\n",
    "strlocations = strlocations.replace(\",\\n                                \",\", \")\n",
    "strlocations = strlocations.replace(\"\\n                            }\",\" }\")\n",
    "strlocations = strlocations.replace(\"{\\n                                \",\"{ \")\n",
    "\n",
    "open(fnenemies, \"w\").write(strenemies)\n",
    "open(fnlocations, \"w\").write(strlocations)"
   ]
  },
  {
   "cell_type": "code",
   "execution_count": null,
   "metadata": {},
   "outputs": [],
   "source": []
  }
 ],
 "metadata": {
  "kernelspec": {
   "display_name": "Python 3",
   "language": "python",
   "name": "python3"
  },
  "language_info": {
   "codemirror_mode": {
    "name": "ipython",
    "version": 3
   },
   "file_extension": ".py",
   "mimetype": "text/x-python",
   "name": "python",
   "nbconvert_exporter": "python",
   "pygments_lexer": "ipython3",
   "version": "3.7.4"
  }
 },
 "nbformat": 4,
 "nbformat_minor": 2
}
