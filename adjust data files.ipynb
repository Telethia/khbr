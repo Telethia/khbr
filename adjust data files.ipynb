{
 "cells": [
  {
   "cell_type": "code",
   "execution_count": 43,
   "metadata": {},
   "outputs": [],
   "source": [
    "import json, os\n",
    "fnenemies = os.path.join(\"khbr\", \"enemies.json\")\n",
    "fnlocations = os.path.join(\"locations_original.json\")\n",
    "\n",
    "enemies = json.load(open(fnenemies))\n",
    "locations = json.load(open(fnlocations))"
   ]
  },
  {
   "cell_type": "code",
   "execution_count": 47,
   "metadata": {},
   "outputs": [],
   "source": [
    "# Location edits\n",
    "\n",
    "name_mapping = {}\n",
    "\n",
    "for enemy in enemies.values():\n",
    "    i = enemy[\"obj_id\"]\n",
    "    for variation in enemy[\"variations\"]:\n",
    "        n = variation\n",
    "        vrs = enemy[\"variations\"][variation][\"vars\"]\n",
    "        if i == 2189:\n",
    "            raise Exception(\"huh\")\n",
    "        name_mapping[\"{}-{}-{}-{}\".format(i,vrs[0],vrs[1],vrs[2])] = {\"name\":n, \"type\": enemy[\"type\"]}\n",
    "                        \n",
    "for world in locations.values():\n",
    "    for room in world.values():\n",
    "        if \"msn\" in room:\n",
    "            del room[\"msn\"]\n",
    "        room[\"size\"] = 5000000\n",
    "        for spawnpoint in room[\"spawnpoints\"].values():\n",
    "            for idt in spawnpoint[\"sp_ids\"].values():\n",
    "                for ent in idt:\n",
    "                    \n",
    "                    m = name_mapping[\"{}-{}-{}-{}\".format(ent[\"obj_id\"], ent[\"vars\"][0], ent[\"vars\"][1], ent[\"vars\"][2])]\n",
    "                    ent[\"name\"] = m[\"name\"]\n",
    "                    ent[\"isboss\"] = m[\"type\"] == \"boss\"\n",
    "                    del ent[\"obj_id\"]\n",
    "                    del ent[\"vars\"]"
   ]
  },
  {
   "cell_type": "code",
   "execution_count": 35,
   "metadata": {},
   "outputs": [
    {
     "data": {
      "text/plain": [
       "'Luna Bandit'"
      ]
     },
     "execution_count": 35,
     "metadata": {},
     "output_type": "execute_result"
    }
   ],
   "source": [
    "m"
   ]
  },
  {
   "cell_type": "code",
   "execution_count": 22,
   "metadata": {},
   "outputs": [
    {
     "data": {
      "text/plain": [
       "{'Data Marluxia': [0, 0, 1], 'Data Marluxia (1)': [0, 0, 0]}"
      ]
     },
     "execution_count": 22,
     "metadata": {},
     "output_type": "execute_result"
    }
   ],
   "source": [
    "enemies_orig[k][\"variations\"]"
   ]
  },
  {
   "cell_type": "code",
   "execution_count": 14,
   "metadata": {},
   "outputs": [
    {
     "data": {
      "text/plain": [
       "[0, 0, 0]"
      ]
     },
     "execution_count": 14,
     "metadata": {},
     "output_type": "execute_result"
    }
   ],
   "source": [
    "en[\"variations\"][vnew]['vars']"
   ]
  },
  {
   "cell_type": "code",
   "execution_count": 9,
   "metadata": {},
   "outputs": [
    {
     "name": "stdout",
     "output_type": "stream",
     "text": [
      "{'name': 'Marluxia', 'type': 'boss'}\n",
      "{'name': 'Marluxia', 'type': 'boss'}\n"
     ]
    }
   ],
   "source": [
    "print(name_mapping[\"Data Marluxia\"])\n",
    "print(name_mapping[\"Data Marluxia (1)\"])"
   ]
  },
  {
   "cell_type": "code",
   "execution_count": 22,
   "metadata": {},
   "outputs": [],
   "source": [
    "# Enemies edits\n",
    "\n",
    "for enemy in enemies.values():\n",
    "    for name in enemy[\"variations\"]:\n",
    "        enemy[\"variations\"][name] = {\n",
    "            \"vars\": enemy[\"variations\"][name],\n",
    "        }\n",
    "        if enemy[\"type\"] == \"boss\":\n",
    "            enemy[\"msn\"] = \"LK05_MS101.bar\"\n",
    "    enemy[\"hp\"] = 100\n",
    "    enemy[\"level\"] = 99\n",
    "    enemy[\"limiter\"] = 1\n",
    "    if enemy[\"islarge\"]:\n",
    "        enemy[\"tags\"] = [\"large\"]\n",
    "    del enemy[\"islarge\"]\n",
    "\n",
    "# enemy variations need to be a dict with \"vars\" array\n",
    "# isnightmare\n",
    "# unstable\n",
    "# whitelist\n",
    "# blacklist\n",
    "# can_be_enemy"
   ]
  },
  {
   "cell_type": "code",
   "execution_count": 15,
   "metadata": {},
   "outputs": [
    {
     "data": {
      "text/plain": [
       "{'obj_id': 1,\n",
       " 'model': 'M_EX060',\n",
       " 'size': 551572,\n",
       " 'type': 'enemy',\n",
       " 'variations': {'Fat Bandit': {'vars': [0, 0, 0]},\n",
       "  'Fat Bandit (1)': {'vars': [0, 1, 0]},\n",
       "  'Fat Bandit (2)': [1, 0, 0],\n",
       "  'Fat Bandit (3)': [0, 0, 1]},\n",
       " 'enabled': True,\n",
       " 'enmp_index': 52,\n",
       " 'hp': 100,\n",
       " 'level': 99,\n",
       " 'limiter': 1,\n",
       " 'tags': []}"
      ]
     },
     "execution_count": 15,
     "metadata": {},
     "output_type": "execute_result"
    }
   ],
   "source": [
    "enemy"
   ]
  },
  {
   "cell_type": "code",
   "execution_count": 48,
   "metadata": {},
   "outputs": [
    {
     "data": {
      "text/plain": [
       "583694"
      ]
     },
     "execution_count": 48,
     "metadata": {},
     "output_type": "execute_result"
    }
   ],
   "source": [
    "strenemies = json.dumps(enemies, indent=4)\n",
    "strlocations = json.dumps(locations, indent=4)\n",
    "\n",
    "strenemies = strenemies.replace(\",\\n                    \", \", \")\n",
    "strenemies = strenemies.replace(\"\\n                ]\", \" ]\")\n",
    "strenemies = strenemies.replace(\"[\\n                    \", \"[ \")\n",
    "\n",
    "strlocations = strlocations.replace(\",\\n                                \",\", \")\n",
    "strlocations = strlocations.replace(\"\\n                            }\",\" }\")\n",
    "strlocations = strlocations.replace(\"{\\n                                \",\"{ \")\n",
    "\n",
    "open(fnenemies, \"w\").write(strenemies)\n",
    "open(os.path.join(\"khbr\", \"locations.json\"), \"w\").write(strlocations)"
   ]
  },
  {
   "cell_type": "code",
   "execution_count": null,
   "metadata": {},
   "outputs": [],
   "source": []
  }
 ],
 "metadata": {
  "kernelspec": {
   "display_name": "Python 3",
   "language": "python",
   "name": "python3"
  },
  "language_info": {
   "codemirror_mode": {
    "name": "ipython",
    "version": 3
   },
   "file_extension": ".py",
   "mimetype": "text/x-python",
   "name": "python",
   "nbconvert_exporter": "python",
   "pygments_lexer": "ipython3",
   "version": "3.7.4"
  }
 },
 "nbformat": 4,
 "nbformat_minor": 2
}
