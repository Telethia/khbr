{
 "cells": [
  {
   "cell_type": "code",
   "execution_count": 1,
   "metadata": {},
   "outputs": [
    {
     "name": "stdout",
     "output_type": "stream",
     "text": [
      "{'name': 'limited', 'size': 16.8}\n"
     ]
    }
   ],
   "source": [
    "from khbr.randomizer import KingdomHearts2\n",
    "import random, os, json, time\n",
    "\n",
    "kh2 = KingdomHearts2()\n",
    "bosses = kh2.get_bosses()\n",
    "\n",
    "\n",
    "# Fake number right now\n",
    "MAXCACHESIZE = 16.8#FAKE NUMBER # A little under Shan yu's max size, just a guess for right now\n",
    "UNLIMITEDSIZE = 99_999_999_999_999\n",
    "SOLUTIONSWANTED = 10\n",
    "\n",
    "# A few bosses can be found in multiple spawnpoints, ignore the ones that don't matter\n",
    "# to make a list of bosses with 1 spawnpoint each\n",
    "\n",
    "outdir = os.path.join(\"khbr\", \"randomizations\")\n",
    "# Two option\n",
    "options = {\"name\": \"limited\", \"size\": MAXCACHESIZE}\n",
    "\n",
    "print(options)\n",
    "bosses = kh2.get_bosses(maxsize=options[\"size\"])\n",
    "    \n",
    "bosses_base = list(bosses.keys())"
   ]
  },
  {
   "cell_type": "code",
   "execution_count": null,
   "metadata": {},
   "outputs": [],
   "source": [
    "# Sort bosses according to their size\n",
    "for boss in sorted(bosses, key=lambda k: bosses[k][\"size\"]):\n",
    "    print(\"{}-{}\".format(boss, bosses[boss][\"size\"]))"
   ]
  },
  {
   "cell_type": "code",
   "execution_count": null,
   "metadata": {},
   "outputs": [],
   "source": [
    "# Sort bosses according to their size\n",
    "for boss in sorted(bosses, key=lambda k: bosses[k][\"roomsize\"]):\n",
    "    print(\"{}-{}\".format(boss, bosses[boss][\"roomsize\"]))"
   ]
  },
  {
   "cell_type": "code",
   "execution_count": null,
   "metadata": {},
   "outputs": [],
   "source": [
    "for boss in sorted(bosses, key=lambda k: len(bosses[k][\"available\"])):\n",
    "    print(\"{}-{}\".format(boss, len(bosses[boss][\"available\"])))"
   ]
  },
  {
   "cell_type": "code",
   "execution_count": null,
   "metadata": {},
   "outputs": [],
   "source": [
    "    solutions = []\n",
    "    start_time = time.time()\n",
    "    while len(solutions) < SOLUTIONSWANTED:\n",
    "        possible_solution = list(bosses_base)\n",
    "        random.shuffle(possible_solution)\n",
    "    \n",
    "        solution_found = True\n",
    "        for b in range(len(possible_solution)):\n",
    "            if not possible_solution[b] in bosses[bosses_base[b]][\"available\"]:\n",
    "                solution_found = False\n",
    "                break\n",
    "        \n",
    "        if solution_found:\n",
    "            length = int(time.time() - start_time)\n",
    "            start_time = time.time()\n",
    "            print(solution_found, len(solutions), \"{}s\".format(length))\n",
    "            solutions.append({bosses_base[i]:possible_solution[i] for i in range(len(possible_solution))})    \n",
    "\n",
    "    for i in range(len(solutions)):\n",
    "        fn = os.path.join(outdir, options[\"name\"], str(i))\n",
    "        if not os.path.isdir(os.path.dirname(fn)):\n",
    "            os.makedirs(os.path.dirname(fn))\n",
    "        json.dump(solutions[i], open(fn, \"w\"))"
   ]
  }
 ],
 "metadata": {
  "kernelspec": {
   "display_name": "Python 3",
   "language": "python",
   "name": "python3"
  },
  "language_info": {
   "codemirror_mode": {
    "name": "ipython",
    "version": 3
   },
   "file_extension": ".py",
   "mimetype": "text/x-python",
   "name": "python",
   "nbconvert_exporter": "python",
   "pygments_lexer": "ipython3",
   "version": "3.7.0"
  }
 },
 "nbformat": 4,
 "nbformat_minor": 2
}
