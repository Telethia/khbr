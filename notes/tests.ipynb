{
 "cells": [
  {
   "cell_type": "code",
   "execution_count": 3,
   "metadata": {},
   "outputs": [
    {
     "name": "stderr",
     "output_type": "stream",
     "text": [
      "/anaconda3/lib/python3.7/site-packages/ipykernel_launcher.py:3: YAMLLoadWarning: calling yaml.load() without Loader=... is deprecated, as the default Loader is unsafe. Please read https://msg.pyyaml.org/load for full details.\n",
      "  This is separate from the ipykernel package so we can avoid doing imports until\n"
     ]
    }
   ],
   "source": [
    "# Making CSV of enemy types\n",
    "import yaml\n",
    "enemies = yaml.load(open(os.path.join(\"khbr\",\"enemies.yaml\")))\n",
    "lines = ['name, tags, isnightmare']\n",
    "\n",
    "for name in enemies:\n",
    "    enemy = enemies[name]\n",
    "    if enemy[\"type\"] == 'boss':\n",
    "        continue\n",
    "    if \"enabled\" in enemy and  not enemy[\"enabled\"]:\n",
    "        continue\n",
    "    parent = enemy[\"parent\"]\n",
    "    tags = \"-\".join(sorted(enemy[\"tags\"])) if \"tags\" in enemy else \"\"\n",
    "    lines.append(','.join([name.replace(\",\",\"_\"), tags, 'yes' if \"isnightmare\" in enemy else '']))\n",
    "\n",
    "with open(\"enemiescategories.csv\", \"w\") as f:\n",
    "    f.write(\"\\n\".join(lines))"
   ]
  },
  {
   "cell_type": "code",
   "execution_count": 16,
   "metadata": {},
   "outputs": [],
   "source": [
    "import json, yaml, os\n",
    "enemies = json.load(open(os.path.join(\"khbr\", \"full_enemy_records.json\")))\n",
    "lines = [','.join(['name', 'parent', 'category', 'isnightmare', 'size'])]\n",
    "objpath = 'C:\\\\Users\\\\Arcade\\\\Desktop\\\\pcsx2-ex\\\\KH2\\\\KH2\\\\obj'\n",
    "for name in enemies:\n",
    "    enemy = enemies[name]\n",
    "    if enemy[\"type\"] == \"boss\":\n",
    "        continue\n",
    "    if \"enabled\" in enemy and not enemy[\"enabled\"]:\n",
    "        continue\n",
    "    modelname = enemy[\"model\"]\n",
    "    files = [f for f in os.listdir(objpath) if modelname == f.split(\".\")[0]]\n",
    "    size = 0\n",
    "    for f in files:\n",
    "        size += os.stat(os.path.join(objpath, f)).st_size // 1000\n",
    "    row = [name, enemy[\"parent\"], enemy[\"category\"], 'yes' if enemy['isnightmare'] else '', str(size)]\n",
    "    lines.append(','.join(row))\n",
    "with open(\"enemysizes.csv\", \"w\") as f:\n",
    "    f.write(\"\\n\".join(lines))"
   ]
  },
  {
   "cell_type": "code",
   "execution_count": 15,
   "metadata": {},
   "outputs": [
    {
     "data": {
      "text/plain": [
       "['Aerial Knocker', 'Aerial Knocker', '', '', 432]"
      ]
     },
     "execution_count": 15,
     "metadata": {},
     "output_type": "execute_result"
    }
   ],
   "source": [
    "','row"
   ]
  },
  {
   "cell_type": "code",
   "execution_count": 1,
   "metadata": {},
   "outputs": [
    {
     "name": "stdout",
     "output_type": "stream",
     "text": [
      "{'name': 'limited', 'size': 16.8}\n"
     ]
    }
   ],
   "source": [
    "from khbr.randomizer import KingdomHearts2\n",
    "import random, os, json, time\n",
    "\n",
    "kh2 = KingdomHearts2()\n",
    "bosses = kh2.get_bosses()\n",
    "\n",
    "\n",
    "# Fake number right now\n",
    "MAXCACHESIZE = 16.8#FAKE NUMBER # A little under Shan yu's max size, just a guess for right now\n",
    "UNLIMITEDSIZE = 99_999_999_999_999\n",
    "SOLUTIONSWANTED = 10\n",
    "\n",
    "# A few bosses can be found in multiple spawnpoints, ignore the ones that don't matter\n",
    "# to make a list of bosses with 1 spawnpoint each\n",
    "\n",
    "outdir = os.path.join(\"khbr\", \"randomizations\")\n",
    "# Two option\n",
    "options = {\"name\": \"limited\", \"size\": MAXCACHESIZE}\n",
    "\n",
    "print(options)\n",
    "bosses = kh2.get_bosses(maxsize=options[\"size\"])\n",
    "    \n",
    "bosses_base = list(bosses.keys())"
   ]
  },
  {
   "cell_type": "code",
   "execution_count": null,
   "metadata": {},
   "outputs": [],
   "source": []
  },
  {
   "cell_type": "code",
   "execution_count": 2,
   "metadata": {},
   "outputs": [
    {
     "name": "stdout",
     "output_type": "stream",
     "text": [
      "Past Pete-0.43\n",
      "Hayner-0.84\n",
      "Yuffie-0.95\n",
      "Yuffie (1)-0.95\n",
      "Yuffie (2)-0.95\n",
      "Yuffie (3)-0.95\n",
      "Seifer-0.98\n",
      "Seifer (1)-0.98\n",
      "Seifer (2)-0.98\n",
      "Seifer (3)-0.98\n",
      "Seifer (4)-0.98\n",
      "Vivi-1.02\n",
      "Riku-1.22\n",
      "Sark-1.22\n",
      "Tifa-1.32\n",
      "Tifa (1)-1.32\n",
      "Tifa (2)-1.32\n",
      "Setzer-1.35\n",
      "Pete Cups-1.57\n",
      "Pete OC II-1.57\n",
      "Scar-1.63\n",
      "Leon-1.67\n",
      "Leon (1)-1.67\n",
      "Leon (2)-1.67\n",
      "Leon (3)-1.67\n",
      "Armor Xemnas II-1.7\n",
      "The Experiment-1.82\n",
      "Cloud-1.9\n",
      "Cloud (1)-1.9\n",
      "Cloud (2)-1.9\n",
      "Thresholder-2.17\n",
      "Volcano Lord-2.23\n",
      "Volcano Lord (Cups)-2.23\n",
      "Grim Reaper I-2.35\n",
      "Hostile Program-2.37\n",
      "Hercules-2.48\n",
      "Blizzard Lord-2.58\n",
      "Blizzard Lord (Cups)-2.58\n",
      "Grim Reaper II-2.58\n",
      "Axel I-2.92\n",
      "Storm Rider-3.03\n",
      "Hades Cups-3.14\n",
      "Hades II-3.15\n",
      "Hades II (1)-3.15\n",
      "Xigbar (Data)-3.19\n",
      "Xigbar-3.19\n",
      "Cerberus-3.2\n",
      "Cerberus (Cups)-3.2\n",
      "Xaldin (Data)-3.63\n",
      "Xaldin-3.63\n",
      "Xemnas (Data)-3.7\n",
      "Xemnas-3.7\n",
      "Axel II-3.74\n",
      "Axel (Data)-3.74\n",
      "Armor Xemnas I-3.82\n",
      "Prison Keeper-3.87\n",
      "Sephiroth-3.89\n",
      "Lexaeus-3.9\n",
      "Lexaeus (Data)-3.9\n",
      "Barbossa-3.95\n",
      "Demyx (Data)-4.07\n",
      "Demyx-4.07\n",
      "Dark Thorn-4.19\n",
      "Zexion-4.44\n",
      "Zexion (Data)-4.44\n",
      "Saix-4.54\n",
      "Saix (Data)-4.55\n",
      "Marluxia-4.57\n",
      "Marluxia (Data)-4.57\n",
      "Luxord (Data)-4.64\n",
      "Shan-Yu-4.64\n",
      "Luxord-4.67\n",
      "Twilight Thorn-4.91\n",
      "Larxene-5.35\n",
      "Larxene (Data)-5.35\n",
      "Terra-5.38\n",
      "Hydra-5.7\n",
      "Roxas-5.85\n",
      "Roxas (Data)-5.85\n",
      "Vexen (Data)-6.22\n",
      "Vexen-6.22\n"
     ]
    }
   ],
   "source": [
    "# Sort bosses according to their size\n",
    "for boss in sorted(bosses, key=lambda k: bosses[k][\"size\"]):\n",
    "    print(\"{}-{}\".format(boss, bosses[boss][\"size\"]))"
   ]
  },
  {
   "cell_type": "code",
   "execution_count": null,
   "metadata": {},
   "outputs": [],
   "source": [
    "# Sort bosses according to their size\n",
    "for boss in sorted(bosses, key=lambda k: bosses[k][\"roomsize\"]):\n",
    "    print(\"{}-{}\".format(boss, bosses[boss][\"roomsize\"]))"
   ]
  },
  {
   "cell_type": "code",
   "execution_count": null,
   "metadata": {},
   "outputs": [],
   "source": [
    "for boss in sorted(bosses, key=lambda k: len(bosses[k][\"available\"])):\n",
    "    print(\"{}-{}\".format(boss, len(bosses[boss][\"available\"])))"
   ]
  },
  {
   "cell_type": "code",
   "execution_count": null,
   "metadata": {},
   "outputs": [],
   "source": [
    "    solutions = []\n",
    "    start_time = time.time()\n",
    "    while len(solutions) < SOLUTIONSWANTED:\n",
    "        possible_solution = list(bosses_base)\n",
    "        random.shuffle(possible_solution)\n",
    "    \n",
    "        solution_found = True\n",
    "        for b in range(len(possible_solution)):\n",
    "            if not possible_solution[b] in bosses[bosses_base[b]][\"available\"]:\n",
    "                solution_found = False\n",
    "                break\n",
    "        \n",
    "        if solution_found:\n",
    "            length = int(time.time() - start_time)\n",
    "            start_time = time.time()\n",
    "            print(solution_found, len(solutions), \"{}s\".format(length))\n",
    "            solutions.append({bosses_base[i]:possible_solution[i] for i in range(len(possible_solution))})    \n",
    "\n",
    "    for i in range(len(solutions)):\n",
    "        fn = os.path.join(outdir, options[\"name\"], str(i))\n",
    "        if not os.path.isdir(os.path.dirname(fn)):\n",
    "            os.makedirs(os.path.dirname(fn))\n",
    "        json.dump(solutions[i], open(fn, \"w\"))"
   ]
  },
  {
   "cell_type": "code",
   "execution_count": null,
   "metadata": {},
   "outputs": [],
   "source": [
    "from khbr.randomizer import KingdomHearts2\n",
    "import random, os, json, time\n",
    "\n",
    "size = 16.8\n",
    "kh2 = KingdomHearts2()\n",
    "bosses = kh2.get_bosses(maxsize=size)"
   ]
  },
  {
   "cell_type": "code",
   "execution_count": null,
   "metadata": {},
   "outputs": [],
   "source": [
    "import random\n",
    "def purerandom(bossdict):\n",
    "    bosslist = list(bossdict.keys())\n",
    "    newlist = list(bosslist)\n",
    "    random.shuffle(newlist)\n",
    "    return {bosslist[i]:newlist[i] for i in range(len(newlist))}\n",
    "def slnfound(bossdict, result):\n",
    "    # return True or False if an valid sln has been found\n",
    "    for src, new in result.items():\n",
    "        if new not in bossdict[src][\"available\"]:\n",
    "            return False\n",
    "    return True\n",
    "def randomplace(bossdict):\n",
    "    # Randomly shuffle, then check if it's a valid sln, keep trying until it's a valid sln\n",
    "    while 1:\n",
    "        result = purerandom(bossdict)\n",
    "        if slnfound(bossdict, result):\n",
    "            return result\n",
    "def place_low_src(bossdict):\n",
    "    # place lowest avail source, restarting if not at end\n",
    "    while 1:\n",
    "        bosslist = list(bossdict.keys())\n",
    "        chosen = []\n",
    "        for k in sorted(bosslist, key=lambda k: len(bossdict[k][\"available\"])):\n",
    "            avail = [b for b in bossdict[k][\"available\"] if not b in chosen]\n",
    "            if len(avail) == 0:\n",
    "                break\n",
    "            else:\n",
    "                chosen.append(random.choice(avail))\n",
    "        if len(bosslist) == len(chosen):\n",
    "            return {bosslist[i]:chosen[i] for i in range(len(bosslist))}\n",
    "def place_low_dest(bossdict):\n",
    "    # place lowest avail dest first, restarting if not at end\n",
    "    pass\n",
    "def place_low_giveup(bossdict):\n",
    "    # above but if boss with no avail, just place it in it's own spot\n",
    "    pass\n",
    "def place_low_tryagain(bossdict):\n",
    "    # above but if no avail, go backwards until that boss can be placed, place it, and keep going\n",
    "    pass\n",
    "def valalg(bossdict):\n",
    "    # my alg from vals randomizer, aka place_low but after 5 attempts place the boss with lowest avail vanilla\n",
    "    pass\n",
    "# could also try resorting after each placement\n",
    "def gradealg(mapping):\n",
    "    score = 0\n",
    "    for k,v in mapping.items():\n",
    "        if k == v:\n",
    "            score += 1\n",
    "    return 1 - (score / len(mapping.keys()))\n",
    "algs = {\n",
    "    \"purerandom\": purerandom,\n",
    "    \"randomplace\": randomplace,\n",
    "    \"place_low_src\": place_low_src,\n",
    "    \"place_low_dest\": place_low_dest,\n",
    "    \"place_low_giveup\": place_low_giveup,\n",
    "    \"place_low_tryagain\": place_low_tryagain,\n",
    "    \"valalg\": valalg\n",
    "}"
   ]
  },
  {
   "cell_type": "code",
   "execution_count": null,
   "metadata": {},
   "outputs": [],
   "source": [
    "# Have alg to create solution\n",
    "# N runs\n",
    "# time to create solution\n",
    "# % of bosses randomized in solution\n",
    "algnames = [ \"place_low_src\" ]\n",
    "mappings = []\n",
    "for alg in algnames:\n",
    "    n = 10\n",
    "    total_time = 0\n",
    "    total_percentage = 0\n",
    "    sel_alg = algs[alg]\n",
    "    for _ in range(n):\n",
    "        st = time.time()\n",
    "        mapping = sel_alg(bosses)\n",
    "        mappings.append(mapping)\n",
    "        et = time.time()\n",
    "        total_time += et - st\n",
    "        total_percentage += gradealg(mapping)\n",
    "\n",
    "print(\"alg: {}\".format(alg))\n",
    "print(\"Avg Time: {}s\".format(int(total_time / n)))\n",
    "print(\"Avg % Replaced: {}%\".format(int(total_percentage / n * 100)))"
   ]
  },
  {
   "cell_type": "code",
   "execution_count": null,
   "metadata": {},
   "outputs": [],
   "source": [
    "for k in mapping.keys():\n",
    "    print(k)\n",
    "    for m in mappings:\n",
    "        print(\"\\t{}\".format(m[k]))"
   ]
  },
  {
   "cell_type": "code",
   "execution_count": null,
   "metadata": {},
   "outputs": [],
   "source": [
    "for k,v in mapping.items():\n",
    "    print(\"{} - {}\".format(k,v))"
   ]
  },
  {
   "cell_type": "code",
   "execution_count": null,
   "metadata": {},
   "outputs": [],
   "source": [
    "for _ in range(5):\n",
    "    for __ in range(3):\n",
    "        print(\"i\")\n",
    "        break"
   ]
  },
  {
   "cell_type": "code",
   "execution_count": null,
   "metadata": {},
   "outputs": [],
   "source": [
    "t = {\n",
    "    1:1,\n",
    "    2:2,\n",
    "    3:3,\n",
    "    4:4,\n",
    "    5:4\n",
    "}\n",
    "gradealg(t)"
   ]
  },
  {
   "cell_type": "code",
   "execution_count": null,
   "metadata": {},
   "outputs": [],
   "source": [
    "a = {\"name\": \"a\"}\n",
    "b = {\"name\": \"b\"}\n",
    "x = {\n",
    "    1: [a,b],\n",
    "    2: [a,b]\n",
    "}\n",
    "x"
   ]
  },
  {
   "cell_type": "code",
   "execution_count": null,
   "metadata": {},
   "outputs": [],
   "source": [
    "del a"
   ]
  },
  {
   "cell_type": "code",
   "execution_count": null,
   "metadata": {},
   "outputs": [],
   "source": [
    "x"
   ]
  },
  {
   "cell_type": "code",
   "execution_count": null,
   "metadata": {},
   "outputs": [],
   "source": [
    "a = \"\""
   ]
  },
  {
   "cell_type": "code",
   "execution_count": null,
   "metadata": {},
   "outputs": [],
   "source": [
    "b[\"name\"] = \"c\""
   ]
  },
  {
   "cell_type": "code",
   "execution_count": null,
   "metadata": {},
   "outputs": [],
   "source": []
  }
 ],
 "metadata": {
  "kernelspec": {
   "display_name": "Python 3",
   "language": "python",
   "name": "python3"
  },
  "language_info": {
   "codemirror_mode": {
    "name": "ipython",
    "version": 3
   },
   "file_extension": ".py",
   "mimetype": "text/x-python",
   "name": "python",
   "nbconvert_exporter": "python",
   "pygments_lexer": "ipython3",
   "version": "3.8.8"
  }
 },
 "nbformat": 4,
 "nbformat_minor": 2
}
