{
 "cells": [
  {
   "cell_type": "code",
   "execution_count": 21,
   "metadata": {},
   "outputs": [],
   "source": [
    "import json, os\n",
    "fnenemies = os.path.join(\"khbr\", \"enemies.json\")\n",
    "fnlocations = os.path.join(\"khbr\", \"locations.json\")\n",
    "\n",
    "enemies = json.load(open(fnenemies))\n",
    "locations = json.load(open(fnlocations))"
   ]
  },
  {
   "cell_type": "code",
   "execution_count": 12,
   "metadata": {},
   "outputs": [],
   "source": [
    "# Location edits\n",
    "\n",
    "# isboss to entities\n",
    "# remove msn\n",
    "# set size to a large default of 50K or something\n",
    "\n",
    "for world in locations.values():\n",
    "    for room in world.values():\n",
    "        if \"msn\" in room:\n",
    "            del room[\"msn\"]\n",
    "        room[\"size\"] = 5000000\n",
    "        for spawnpoint in room[\"spawnpoints\"].values():\n",
    "            for idt in spawnpoint[\"sp_ids\"].values():\n",
    "                for ent in idt:\n",
    "                    ent[\"isboss\"] = False"
   ]
  },
  {
   "cell_type": "code",
   "execution_count": 22,
   "metadata": {},
   "outputs": [],
   "source": [
    "# Enemies edits\n",
    "\n",
    "for enemy in enemies.values():\n",
    "    for name in enemy[\"variations\"]:\n",
    "        enemy[\"variations\"][name] = {\n",
    "            \"vars\": enemy[\"variations\"][name],\n",
    "        }\n",
    "        if enemy[\"type\"] == \"boss\":\n",
    "            enemy[\"msn\"] = \"LK05_MS101.bar\"\n",
    "    enemy[\"hp\"] = 100\n",
    "    enemy[\"level\"] = 99\n",
    "    enemy[\"limiter\"] = 1\n",
    "    if enemy[\"islarge\"]:\n",
    "        enemy[\"tags\"] = [\"large\"]\n",
    "    del enemy[\"islarge\"]\n",
    "\n",
    "# enemy variations need to be a dict with \"vars\" array\n",
    "# isnightmare\n",
    "# unstable\n",
    "# whitelist\n",
    "# blacklist\n",
    "# can_be_enemy"
   ]
  },
  {
   "cell_type": "code",
   "execution_count": 15,
   "metadata": {},
   "outputs": [
    {
     "data": {
      "text/plain": [
       "{'obj_id': 1,\n",
       " 'model': 'M_EX060',\n",
       " 'size': 551572,\n",
       " 'type': 'enemy',\n",
       " 'variations': {'Fat Bandit': {'vars': [0, 0, 0]},\n",
       "  'Fat Bandit (1)': {'vars': [0, 1, 0]},\n",
       "  'Fat Bandit (2)': [1, 0, 0],\n",
       "  'Fat Bandit (3)': [0, 0, 1]},\n",
       " 'enabled': True,\n",
       " 'enmp_index': 52,\n",
       " 'hp': 100,\n",
       " 'level': 99,\n",
       " 'limiter': 1,\n",
       " 'tags': []}"
      ]
     },
     "execution_count": 15,
     "metadata": {},
     "output_type": "execute_result"
    }
   ],
   "source": [
    "enemy"
   ]
  },
  {
   "cell_type": "code",
   "execution_count": 23,
   "metadata": {},
   "outputs": [
    {
     "data": {
      "text/plain": [
       "581908"
      ]
     },
     "execution_count": 23,
     "metadata": {},
     "output_type": "execute_result"
    }
   ],
   "source": [
    "strenemies = json.dumps(enemies, indent=4)\n",
    "strlocations = json.dumps(locations, indent=4)\n",
    "\n",
    "strenemies = strenemies.replace(\",\\n                    \", \", \")\n",
    "strenemies = strenemies.replace(\"\\n                ]\", \" ]\")\n",
    "strenemies = strenemies.replace(\"[\\n                    \", \"[ \")\n",
    "\n",
    "strlocations = strlocations.replace(\",\\n                                \",\", \")\n",
    "strlocations = strlocations.replace(\"\\n                            }\",\" }\")\n",
    "strlocations = strlocations.replace(\"{\\n                                \",\"{ \")\n",
    "\n",
    "open(fnenemies, \"w\").write(strenemies)\n",
    "open(fnlocations, \"w\").write(strlocations)"
   ]
  },
  {
   "cell_type": "code",
   "execution_count": null,
   "metadata": {},
   "outputs": [],
   "source": []
  }
 ],
 "metadata": {
  "kernelspec": {
   "display_name": "Python 3",
   "language": "python",
   "name": "python3"
  },
  "language_info": {
   "codemirror_mode": {
    "name": "ipython",
    "version": 3
   },
   "file_extension": ".py",
   "mimetype": "text/x-python",
   "name": "python",
   "nbconvert_exporter": "python",
   "pygments_lexer": "ipython3",
   "version": "3.7.4"
  }
 },
 "nbformat": 4,
 "nbformat_minor": 2
}
