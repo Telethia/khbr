{
 "cells": [
  {
   "cell_type": "code",
   "execution_count": 3,
   "metadata": {},
   "outputs": [],
   "source": [
    "import json, os\n",
    "fnenemies = os.path.join(\"khbr\", \"enemies.json\")\n",
    "fnlocations = os.path.join(\"khbr\", \"locations.json\")\n",
    "\n",
    "enemies = json.load(open(fnenemies))\n",
    "locations = json.load(open(fnlocations))"
   ]
  },
  {
   "cell_type": "code",
   "execution_count": null,
   "metadata": {},
   "outputs": [],
   "source": [
    "strenemies = json.dumps(enemies)\n",
    "strlocations = json.dumps(locations)\n",
    "\n",
    "strenemies = strenemies.replace(\",\\n                \", \", \")\n",
    "strenemies = strenemies.replace(\"\\n            ]\", \" ]\")\n",
    "strenemies = strenemies.replace(\"[\\n                \", \"[ \")"
   ]
  }
 ],
 "metadata": {
  "kernelspec": {
   "display_name": "Python 3",
   "language": "python",
   "name": "python3"
  },
  "language_info": {
   "codemirror_mode": {
    "name": "ipython",
    "version": 3
   },
   "file_extension": ".py",
   "mimetype": "text/x-python",
   "name": "python",
   "nbconvert_exporter": "python",
   "pygments_lexer": "ipython3",
   "version": "3.7.4"
  }
 },
 "nbformat": 4,
 "nbformat_minor": 2
}
