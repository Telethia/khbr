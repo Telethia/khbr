{
 "cells": [
  {
   "cell_type": "code",
   "execution_count": 29,
   "id": "bcc2e906",
   "metadata": {
    "scrolled": true
   },
   "outputs": [
    {
     "name": "stdout",
     "output_type": "stream",
     "text": [
      "Riku\n",
      "Solution found!\n",
      "{'Riku': 'Riku'}\n",
      "Armor Xemnas I\n",
      "Grim Reaper I\n",
      "Axel I\n",
      "Axel II\n",
      "Pete OC II\n",
      "Seifer\n",
      "Twilight Thorn\n",
      "Thresholder\n",
      "Dark Thorn\n",
      "The Experiment\n",
      "Past Pete\n",
      "Blizzard Lord\n",
      "Volcano Lord\n",
      "Xigbar\n",
      "Demyx\n",
      "Vexen\n",
      "Armor Xemnas II\n",
      "Cerberus\n",
      "Larxene\n",
      "Lexaeus\n",
      "Marluxia\n",
      "Prison Keeper\n",
      "Saix\n",
      "Sark\n",
      "Shan-Yu\n",
      "Hydra\n",
      "Xemnas\n",
      "Hostile Program\n",
      "Xaldin\n",
      "Hades II\n",
      "Roxas\n",
      "Scar\n",
      "Storm Rider\n",
      "Zexion\n",
      "Riku\n",
      "Solution found!\n",
      "{'Riku': 'Riku'}\n",
      "Armor Xemnas I\n",
      "Grim Reaper I\n",
      "Axel I\n",
      "Axel II\n",
      "Pete OC II\n",
      "Seifer\n",
      "Twilight Thorn\n",
      "Thresholder\n",
      "Dark Thorn\n",
      "The Experiment\n",
      "Past Pete\n",
      "Blizzard Lord\n",
      "Volcano Lord\n",
      "Xigbar\n",
      "Demyx\n",
      "Vexen\n",
      "Armor Xemnas II\n",
      "Cerberus\n",
      "Larxene\n",
      "Lexaeus\n",
      "Marluxia\n",
      "Prison Keeper\n",
      "Saix\n",
      "Sark\n",
      "Shan-Yu\n",
      "Hydra\n",
      "Xemnas\n",
      "Hostile Program\n",
      "Xaldin\n",
      "Hades II\n",
      "Roxas\n",
      "Scar\n",
      "Storm Rider\n",
      "Zexion\n",
      "Luxord\n",
      "Solution found!\n",
      "{'Riku': 'Riku', 'Armor Xemnas I': 'Sark', 'Grim Reaper I': 'Thresholder', 'Axel I': 'Pete OC II', 'Axel II': 'Volcano Lord', 'Pete OC II': 'Grim Reaper I', 'Seifer': 'Seifer', 'Twilight Thorn': 'Twilight Thorn', 'Thresholder': 'Hostile Program', 'Dark Thorn': 'Dark Thorn', 'The Experiment': 'Cerberus', 'Past Pete': 'Xemnas', 'Blizzard Lord': 'Axel I', 'Volcano Lord': 'Blizzard Lord', 'Xigbar': 'Lexaeus', 'Demyx': 'Past Pete', 'Vexen': 'Hades II', 'Armor Xemnas II': 'Scar', 'Cerberus': 'Storm Rider', 'Larxene': 'Zexion', 'Lexaeus': 'Larxene', 'Marluxia': 'Marluxia', 'Prison Keeper': 'Armor Xemnas II', 'Saix': 'Axel II', 'Sark': 'Shan-Yu', 'Shan-Yu': 'The Experiment', 'Hydra': 'Xigbar', 'Xemnas': 'Xaldin', 'Hostile Program': 'Prison Keeper', 'Xaldin': 'Luxord', 'Hades II': 'Saix', 'Roxas': 'Armor Xemnas I', 'Scar': 'Demyx', 'Storm Rider': 'Hydra', 'Zexion': 'Roxas', 'Luxord': 'Vexen'}\n",
      "Breaking now\n"
     ]
    },
    {
     "data": {
      "text/plain": [
       "{'Riku': 'Riku',\n",
       " 'Armor Xemnas I': 'Sark',\n",
       " 'Grim Reaper I': 'Thresholder',\n",
       " 'Axel I': 'Pete OC II',\n",
       " 'Axel II': 'Volcano Lord',\n",
       " 'Pete OC II': 'Grim Reaper I',\n",
       " 'Seifer': 'Seifer',\n",
       " 'Twilight Thorn': 'Twilight Thorn',\n",
       " 'Thresholder': 'Hostile Program',\n",
       " 'Dark Thorn': 'Dark Thorn',\n",
       " 'The Experiment': 'Cerberus',\n",
       " 'Past Pete': 'Xemnas',\n",
       " 'Blizzard Lord': 'Axel I',\n",
       " 'Volcano Lord': 'Blizzard Lord',\n",
       " 'Xigbar': 'Lexaeus',\n",
       " 'Demyx': 'Past Pete',\n",
       " 'Vexen': 'Hades II',\n",
       " 'Armor Xemnas II': 'Scar',\n",
       " 'Cerberus': 'Storm Rider',\n",
       " 'Larxene': 'Zexion',\n",
       " 'Lexaeus': 'Larxene',\n",
       " 'Marluxia': 'Marluxia',\n",
       " 'Prison Keeper': 'Armor Xemnas II',\n",
       " 'Saix': 'Axel II',\n",
       " 'Sark': 'Shan-Yu',\n",
       " 'Shan-Yu': 'The Experiment',\n",
       " 'Hydra': 'Xigbar',\n",
       " 'Xemnas': 'Xaldin',\n",
       " 'Hostile Program': 'Prison Keeper',\n",
       " 'Xaldin': 'Luxord',\n",
       " 'Hades II': 'Saix',\n",
       " 'Roxas': 'Armor Xemnas I',\n",
       " 'Scar': 'Demyx',\n",
       " 'Storm Rider': 'Hydra',\n",
       " 'Zexion': 'Roxas',\n",
       " 'Luxord': 'Vexen'}"
      ]
     },
     "execution_count": 29,
     "metadata": {},
     "output_type": "execute_result"
    }
   ],
   "source": [
    "from khbr.randomizer import KingdomHearts2\n",
    "import random\n",
    "kh2 = KingdomHearts2()\n",
    "bossdict = kh2.get_boss_list({})\n",
    "mapping = kh2.pickbossmapping(bosses)\n",
    "\n",
    "while 1:\n",
    "    bosslist = [b for b in bossdict if bossdict[b][\"name\"] == bossdict[b][\"parent\"]]\n",
    "    chosen = {}\n",
    "    for k in sorted(bosslist, key=lambda k: len(bossdict[k][\"available\"])):\n",
    "        print(k)\n",
    "        avail = [b for b in kh2.enemy_records[k][\"available\"] if not b in chosen.values()]\n",
    "        if len(avail) == 0:\n",
    "            break\n",
    "        else:\n",
    "            chosen_new_boss = random.choice(avail)\n",
    "            chosen[k] = chosen_new_boss\n",
    "        if max(getcounts(chosen).values()) > 1:\n",
    "            0/0\n",
    "        if min(getcounts(chosen).values()) == 1 and max(getcounts(chosen).values()) == 1:\n",
    "            print(\"Solution found!\")\n",
    "            print(chosen)\n",
    "    if len(bosslist) == len(chosen):\n",
    "        print(\"Breaking now\")\n",
    "        break\n",
    "chosen\n",
    "# for k,v in mapping.items():\n",
    "#     print(\"{}->{}\".format(k,v))\n",
    "# for v in sorted(mapping.values()):\n",
    "#     print(v)"
   ]
  },
  {
   "cell_type": "code",
   "execution_count": 25,
   "id": "93f0e585",
   "metadata": {},
   "outputs": [
    {
     "data": {
      "text/plain": [
       "{'Riku': 1}"
      ]
     },
     "execution_count": 25,
     "metadata": {},
     "output_type": "execute_result"
    }
   ],
   "source": [
    "getcounts(chosen)"
   ]
  },
  {
   "cell_type": "code",
   "execution_count": 30,
   "id": "21255655",
   "metadata": {},
   "outputs": [
    {
     "name": "stdout",
     "output_type": "stream",
     "text": [
      "dict_values([1, 1, 1, 1, 1, 1, 1, 1, 1, 1, 1, 1, 1, 1, 1, 1, 1, 1, 1, 1, 1, 1, 1, 1, 1, 1, 1, 1, 1, 1, 1, 1, 1, 1, 1, 1])\n"
     ]
    }
   ],
   "source": [
    "def getcounts(mapping):\n",
    "    counts = {}\n",
    "    maxcounts = 0\n",
    "    for old, new in mapping.items():\n",
    "        if new not in counts:\n",
    "            counts[new] = 0\n",
    "        if old not in counts:\n",
    "            counts[old] = 0\n",
    "        counts[new] += 1\n",
    "    return counts\n",
    "counted = getcounts(chosen)\n",
    "print(counted.values())\n",
    "assert min(counted.values()) == 1\n",
    "assert max(counted.values()) == 1"
   ]
  },
  {
   "cell_type": "code",
   "execution_count": null,
   "id": "c6b73c53",
   "metadata": {},
   "outputs": [],
   "source": []
  }
 ],
 "metadata": {
  "kernelspec": {
   "display_name": "Python 3",
   "language": "python",
   "name": "python3"
  },
  "language_info": {
   "codemirror_mode": {
    "name": "ipython",
    "version": 3
   },
   "file_extension": ".py",
   "mimetype": "text/x-python",
   "name": "python",
   "nbconvert_exporter": "python",
   "pygments_lexer": "ipython3",
   "version": "3.8.8"
  }
 },
 "nbformat": 4,
 "nbformat_minor": 5
}
