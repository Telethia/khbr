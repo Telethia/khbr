{
 "cells": [
  {
   "cell_type": "code",
   "execution_count": 16,
   "metadata": {},
   "outputs": [
    {
     "name": "stderr",
     "output_type": "stream",
     "text": [
      "<ipython-input-16-856639786d52>:27: YAMLLoadWarning: calling yaml.load() without Loader=... is deprecated, as the default Loader is unsafe. Please read https://msg.pyyaml.org/load for full details.\n",
      "  enmplist = yaml.load(open(enmp))\n"
     ]
    },
    {
     "ename": "AssertionError",
     "evalue": "",
     "output_type": "error",
     "traceback": [
      "\u001b[1;31m---------------------------------------------------------------------------\u001b[0m",
      "\u001b[1;31mAssertionError\u001b[0m                            Traceback (most recent call last)",
      "\u001b[1;32m<ipython-input-16-856639786d52>\u001b[0m in \u001b[0;36m<module>\u001b[1;34m\u001b[0m\n\u001b[0;32m     33\u001b[0m \u001b[0mvanillabytes\u001b[0m \u001b[1;33m=\u001b[0m \u001b[0mvanillabytes\u001b[0m\u001b[1;33m\u001b[0m\u001b[1;33m\u001b[0m\u001b[0m\n\u001b[0;32m     34\u001b[0m \u001b[1;32massert\u001b[0m \u001b[0mlen\u001b[0m\u001b[1;33m(\u001b[0m\u001b[0mvanillabytes\u001b[0m\u001b[1;33m)\u001b[0m \u001b[1;33m==\u001b[0m \u001b[0mlen\u001b[0m\u001b[1;33m(\u001b[0m\u001b[0menmp_bytes\u001b[0m\u001b[1;33m)\u001b[0m\u001b[1;33m,\u001b[0m \u001b[1;33m(\u001b[0m\u001b[0mlen\u001b[0m\u001b[1;33m(\u001b[0m\u001b[0mvanillabytes\u001b[0m\u001b[1;33m)\u001b[0m\u001b[1;33m,\u001b[0m \u001b[0mlen\u001b[0m\u001b[1;33m(\u001b[0m\u001b[0menmp_bytes\u001b[0m\u001b[1;33m)\u001b[0m\u001b[1;33m)\u001b[0m\u001b[1;33m\u001b[0m\u001b[1;33m\u001b[0m\u001b[0m\n\u001b[1;32m---> 35\u001b[1;33m \u001b[1;32massert\u001b[0m \u001b[0mvanillabytes\u001b[0m \u001b[1;33m==\u001b[0m \u001b[0menmp_bytes\u001b[0m\u001b[1;33m\u001b[0m\u001b[1;33m\u001b[0m\u001b[0m\n\u001b[0m",
      "\u001b[1;31mAssertionError\u001b[0m: "
     ]
    }
   ],
   "source": [
    "# Every enmp entry is u16\n",
    "entrylen = 2\n",
    "entries = [\n",
    "    \"id\",\n",
    "    \"level\",\n",
    "    \"health\",\n",
    "    \"maxDamage\",\n",
    "    \"minDamage\",\n",
    "    \"physicalWeakness\",\n",
    "    \"fireWeakness\",\n",
    "    \"iceWeakness\",\n",
    "    \"thunderWeakness\",\n",
    "    \"darkWeakness\",\n",
    "    \"lightWeakness\",\n",
    "    \"generalWeakness\",\n",
    "    \"experience\",\n",
    "    \"prize\",\n",
    "    \"bonusLevel\"\n",
    "]\n",
    "def toBytes(n):\n",
    "    n_sig = n // 255\n",
    "    n_insig = n % 255\n",
    "    return bytearray([n_insig,n_sig])\n",
    "import os, yaml\n",
    "header = [0, 0, 0, 0, 50, 0, 0, 0] #taken from vanilla file\n",
    "enmp = os.path.join(\"khbr\",\"data\",\"enmpVanilla.yml\")\n",
    "enmplist = yaml.load(open(enmp))\n",
    "enmp_bytes = bytearray(header)\n",
    "for enemy in enmplist:\n",
    "    for k in entries:\n",
    "        if k == \"health\":\n",
    "            for healthentry in enemy[k]:\n",
    "                enmp_bytes += toBytes(healthentry)\n",
    "            continue\n",
    "        enmp_bytes += toBytes(enemy[k])\n",
    "vanillabytes = bytearray(open(\"C:\\\\Users\\\\Arcade\\\\Desktop\\\\pcsx2-ex\\\\KH2\\\\bars\\\\root\\\\00battle\\\\enmp.list\", \"rb\").read())\n",
    "vanillabytes = vanillabytes\n",
    "assert len(vanillabytes) == len(enmp_bytes), (len(vanillabytes), len(enmp_bytes))\n",
    "assert vanillabytes == enmp_bytes"
   ]
  },
  {
   "cell_type": "code",
   "execution_count": 14,
   "metadata": {},
   "outputs": [
    {
     "data": {
      "text/plain": [
       "[0, 0, 0, 0, 50, 0, 0, 0]"
      ]
     },
     "execution_count": 14,
     "metadata": {},
     "output_type": "execute_result"
    }
   ],
   "source": [
    "[b for b in vanillabytes[:8]]"
   ]
  },
  {
   "cell_type": "code",
   "execution_count": null,
   "metadata": {},
   "outputs": [],
   "source": []
  }
 ],
 "metadata": {
  "kernelspec": {
   "display_name": "Python 3",
   "language": "python",
   "name": "python3"
  },
  "language_info": {
   "codemirror_mode": {
    "name": "ipython",
    "version": 3
   },
   "file_extension": ".py",
   "mimetype": "text/x-python",
   "name": "python",
   "nbconvert_exporter": "python",
   "pygments_lexer": "ipython3",
   "version": "3.8.5"
  }
 },
 "nbformat": 4,
 "nbformat_minor": 4
}
