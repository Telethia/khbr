{
 "cells": [
  {
   "cell_type": "code",
   "execution_count": null,
   "metadata": {},
   "outputs": [],
   "source": [
    "from khbr.randomizer import KingdomHearts2\n",
    "import random, os, json, time\n",
    "\n",
    "kh2 = KingdomHearts2()\n",
    "bosses = kh2.get_bosses()\n",
    "\n",
    "\n",
    "# Fake number right now\n",
    "MAXCACHESIZE = 16.8#FAKE NUMBER # A little under Shan yu's max size, just a guess for right now\n",
    "UNLIMITEDSIZE = 99_999_999_999_999\n",
    "SOLUTIONSWANTED = 10\n",
    "\n",
    "# A few bosses can be found in multiple spawnpoints, ignore the ones that don't matter\n",
    "# to make a list of bosses with 1 spawnpoint each\n",
    "\n",
    "outdir = os.path.join(\"khbr\", \"randomizations\")\n",
    "# Two option\n",
    "options = {\"name\": \"limited\", \"size\": MAXCACHESIZE}\n",
    "\n",
    "print(options)\n",
    "bosses = kh2.get_bosses(maxsize=options[\"size\"])\n",
    "    \n",
    "bosses_base = list(bosses.keys())"
   ]
  },
  {
   "cell_type": "code",
   "execution_count": null,
   "metadata": {},
   "outputs": [],
   "source": [
    "# Sort bosses according to their size\n",
    "for boss in sorted(bosses, key=lambda k: bosses[k][\"size\"]):\n",
    "    print(\"{}-{}\".format(boss, bosses[boss][\"size\"]))"
   ]
  },
  {
   "cell_type": "code",
   "execution_count": null,
   "metadata": {},
   "outputs": [],
   "source": [
    "# Sort bosses according to their size\n",
    "for boss in sorted(bosses, key=lambda k: bosses[k][\"roomsize\"]):\n",
    "    print(\"{}-{}\".format(boss, bosses[boss][\"roomsize\"]))"
   ]
  },
  {
   "cell_type": "code",
   "execution_count": null,
   "metadata": {},
   "outputs": [],
   "source": [
    "for boss in sorted(bosses, key=lambda k: len(bosses[k][\"available\"])):\n",
    "    print(\"{}-{}\".format(boss, len(bosses[boss][\"available\"])))"
   ]
  },
  {
   "cell_type": "code",
   "execution_count": null,
   "metadata": {},
   "outputs": [],
   "source": [
    "    solutions = []\n",
    "    start_time = time.time()\n",
    "    while len(solutions) < SOLUTIONSWANTED:\n",
    "        possible_solution = list(bosses_base)\n",
    "        random.shuffle(possible_solution)\n",
    "    \n",
    "        solution_found = True\n",
    "        for b in range(len(possible_solution)):\n",
    "            if not possible_solution[b] in bosses[bosses_base[b]][\"available\"]:\n",
    "                solution_found = False\n",
    "                break\n",
    "        \n",
    "        if solution_found:\n",
    "            length = int(time.time() - start_time)\n",
    "            start_time = time.time()\n",
    "            print(solution_found, len(solutions), \"{}s\".format(length))\n",
    "            solutions.append({bosses_base[i]:possible_solution[i] for i in range(len(possible_solution))})    \n",
    "\n",
    "    for i in range(len(solutions)):\n",
    "        fn = os.path.join(outdir, options[\"name\"], str(i))\n",
    "        if not os.path.isdir(os.path.dirname(fn)):\n",
    "            os.makedirs(os.path.dirname(fn))\n",
    "        json.dump(solutions[i], open(fn, \"w\"))"
   ]
  },
  {
   "cell_type": "code",
   "execution_count": null,
   "metadata": {},
   "outputs": [],
   "source": [
    "from khbr.randomizer import KingdomHearts2\n",
    "import random, os, json, time\n",
    "\n",
    "size = 16.8\n",
    "kh2 = KingdomHearts2()\n",
    "bosses = kh2.get_bosses(maxsize=size)"
   ]
  },
  {
   "cell_type": "code",
   "execution_count": null,
   "metadata": {},
   "outputs": [],
   "source": [
    "import random\n",
    "def purerandom(bossdict):\n",
    "    bosslist = list(bossdict.keys())\n",
    "    newlist = list(bosslist)\n",
    "    random.shuffle(newlist)\n",
    "    return {bosslist[i]:newlist[i] for i in range(len(newlist))}\n",
    "def slnfound(bossdict, result):\n",
    "    # return True or False if an valid sln has been found\n",
    "    for src, new in result.items():\n",
    "        if new not in bossdict[src][\"available\"]:\n",
    "            return False\n",
    "    return True\n",
    "def randomplace(bossdict):\n",
    "    # Randomly shuffle, then check if it's a valid sln, keep trying until it's a valid sln\n",
    "    while 1:\n",
    "        result = purerandom(bossdict)\n",
    "        if slnfound(bossdict, result):\n",
    "            return result\n",
    "def place_low_src(bossdict):\n",
    "    # place lowest avail source, restarting if not at end\n",
    "    while 1:\n",
    "        bosslist = list(bossdict.keys())\n",
    "        chosen = []\n",
    "        for k in sorted(bosslist, key=lambda k: len(bossdict[k][\"available\"])):\n",
    "            avail = [b for b in bossdict[k][\"available\"] if not b in chosen]\n",
    "            if len(avail) == 0:\n",
    "                break\n",
    "            else:\n",
    "                chosen.append(random.choice(avail))\n",
    "        if len(bosslist) == len(chosen):\n",
    "            return {bosslist[i]:chosen[i] for i in range(len(bosslist))}\n",
    "def place_low_dest(bossdict):\n",
    "    # place lowest avail dest first, restarting if not at end\n",
    "    pass\n",
    "def place_low_giveup(bossdict):\n",
    "    # above but if boss with no avail, just place it in it's own spot\n",
    "    pass\n",
    "def place_low_tryagain(bossdict):\n",
    "    # above but if no avail, go backwards until that boss can be placed, place it, and keep going\n",
    "    pass\n",
    "def valalg(bossdict):\n",
    "    # my alg from vals randomizer, aka place_low but after 5 attempts place the boss with lowest avail vanilla\n",
    "    pass\n",
    "# could also try resorting after each placement\n",
    "def gradealg(mapping):\n",
    "    score = 0\n",
    "    for k,v in mapping.items():\n",
    "        if k == v:\n",
    "            score += 1\n",
    "    return 1 - (score / len(mapping.keys()))\n",
    "algs = {\n",
    "    \"purerandom\": purerandom,\n",
    "    \"randomplace\": randomplace,\n",
    "    \"place_low_src\": place_low_src,\n",
    "    \"place_low_dest\": place_low_dest,\n",
    "    \"place_low_giveup\": place_low_giveup,\n",
    "    \"place_low_tryagain\": place_low_tryagain,\n",
    "    \"valalg\": valalg\n",
    "}"
   ]
  },
  {
   "cell_type": "code",
   "execution_count": null,
   "metadata": {},
   "outputs": [],
   "source": [
    "# Have alg to create solution\n",
    "# N runs\n",
    "# time to create solution\n",
    "# % of bosses randomized in solution\n",
    "algnames = [ \"place_low_src\" ]\n",
    "mappings = []\n",
    "for alg in algnames:\n",
    "    n = 10\n",
    "    total_time = 0\n",
    "    total_percentage = 0\n",
    "    sel_alg = algs[alg]\n",
    "    for _ in range(n):\n",
    "        st = time.time()\n",
    "        mapping = sel_alg(bosses)\n",
    "        mappings.append(mapping)\n",
    "        et = time.time()\n",
    "        total_time += et - st\n",
    "        total_percentage += gradealg(mapping)\n",
    "\n",
    "print(\"alg: {}\".format(alg))\n",
    "print(\"Avg Time: {}s\".format(int(total_time / n)))\n",
    "print(\"Avg % Replaced: {}%\".format(int(total_percentage / n * 100)))"
   ]
  },
  {
   "cell_type": "code",
   "execution_count": null,
   "metadata": {},
   "outputs": [],
   "source": [
    "for k in mapping.keys():\n",
    "    print(k)\n",
    "    for m in mappings:\n",
    "        print(\"\\t{}\".format(m[k]))"
   ]
  },
  {
   "cell_type": "code",
   "execution_count": null,
   "metadata": {},
   "outputs": [],
   "source": [
    "for k,v in mapping.items():\n",
    "    print(\"{} - {}\".format(k,v))"
   ]
  },
  {
   "cell_type": "code",
   "execution_count": null,
   "metadata": {},
   "outputs": [],
   "source": [
    "for _ in range(5):\n",
    "    for __ in range(3):\n",
    "        print(\"i\")\n",
    "        break"
   ]
  },
  {
   "cell_type": "code",
   "execution_count": null,
   "metadata": {},
   "outputs": [],
   "source": [
    "t = {\n",
    "    1:1,\n",
    "    2:2,\n",
    "    3:3,\n",
    "    4:4,\n",
    "    5:4\n",
    "}\n",
    "gradealg(t)"
   ]
  },
  {
   "cell_type": "code",
   "execution_count": null,
   "metadata": {},
   "outputs": [],
   "source": [
    "a = {\"name\": \"a\"}\n",
    "b = {\"name\": \"b\"}\n",
    "x = {\n",
    "    1: [a,b],\n",
    "    2: [a,b]\n",
    "}\n",
    "x"
   ]
  },
  {
   "cell_type": "code",
   "execution_count": null,
   "metadata": {},
   "outputs": [],
   "source": [
    "del a"
   ]
  },
  {
   "cell_type": "code",
   "execution_count": null,
   "metadata": {},
   "outputs": [],
   "source": [
    "x"
   ]
  },
  {
   "cell_type": "code",
   "execution_count": null,
   "metadata": {},
   "outputs": [],
   "source": [
    "a = \"\""
   ]
  },
  {
   "cell_type": "code",
   "execution_count": null,
   "metadata": {},
   "outputs": [],
   "source": [
    "b[\"name\"] = \"c\""
   ]
  },
  {
   "cell_type": "code",
   "execution_count": null,
   "metadata": {},
   "outputs": [],
   "source": []
  }
 ],
 "metadata": {
  "kernelspec": {
   "display_name": "Python 3",
   "language": "python",
   "name": "python3"
  },
  "language_info": {
   "codemirror_mode": {
    "name": "ipython",
    "version": 3
   },
   "file_extension": ".py",
   "mimetype": "text/x-python",
   "name": "python",
   "nbconvert_exporter": "python",
   "pygments_lexer": "ipython3",
   "version": "3.7.0"
  }
 },
 "nbformat": 4,
 "nbformat_minor": 2
}
